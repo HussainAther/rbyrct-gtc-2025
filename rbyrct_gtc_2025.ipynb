{
  "nbformat": 4,
  "nbformat_minor": 0,
  "metadata": {
    "colab": {
      "provenance": [],
      "gpuType": "T4"
    },
    "kernelspec": {
      "name": "python3",
      "display_name": "Python 3"
    },
    "language_info": {
      "name": "python"
    },
    "accelerator": "GPU"
  },
  "cells": [
    {
      "cell_type": "code",
      "execution_count": null,
      "metadata": {
        "colab": {
          "base_uri": "https://localhost:8080/"
        },
        "id": "MHRpxU9IXXH0",
        "outputId": "889ee392-a6a7-4543-8f48-96bf1f60af2d"
      },
      "outputs": [
        {
          "output_type": "stream",
          "name": "stdout",
          "text": [
            "Mon Sep 29 18:37:01 2025       \n",
            "+-----------------------------------------------------------------------------------------+\n",
            "| NVIDIA-SMI 550.54.15              Driver Version: 550.54.15      CUDA Version: 12.4     |\n",
            "|-----------------------------------------+------------------------+----------------------+\n",
            "| GPU  Name                 Persistence-M | Bus-Id          Disp.A | Volatile Uncorr. ECC |\n",
            "| Fan  Temp   Perf          Pwr:Usage/Cap |           Memory-Usage | GPU-Util  Compute M. |\n",
            "|                                         |                        |               MIG M. |\n",
            "|=========================================+========================+======================|\n",
            "|   0  Tesla T4                       Off |   00000000:00:04.0 Off |                    0 |\n",
            "| N/A   45C    P8             12W /   70W |       0MiB /  15360MiB |      0%      Default |\n",
            "|                                         |                        |                  N/A |\n",
            "+-----------------------------------------+------------------------+----------------------+\n",
            "                                                                                         \n",
            "+-----------------------------------------------------------------------------------------+\n",
            "| Processes:                                                                              |\n",
            "|  GPU   GI   CI        PID   Type   Process name                              GPU Memory |\n",
            "|        ID   ID                                                               Usage      |\n",
            "|=========================================================================================|\n",
            "|  No running processes found                                                             |\n",
            "+-----------------------------------------------------------------------------------------+\n",
            "fatal: destination path 'rbyrct-gtc-2025' already exists and is not an empty directory.\n",
            "/content/rbyrct-gtc-2025\n"
          ]
        }
      ],
      "source": [
        "!nvidia-smi\n",
        "\n",
        "!git clone https://github.com/HussainAther/rbyrct-gtc-2025.git\n",
        "%cd rbyrct-gtc-2025\n"
      ]
    },
    {
      "cell_type": "code",
      "source": [
        "# CPU deps\n",
        "!pip install -r requirements.txt\n",
        "\n",
        "# GPU-enabled CuPy for CUDA 12\n",
        "!pip install cupy-cuda12x\n",
        "\n",
        "# Install your package in editable mode\n",
        "!pip install -e .\n"
      ],
      "metadata": {
        "colab": {
          "base_uri": "https://localhost:8080/"
        },
        "id": "DTwZ1OVLyc0v",
        "outputId": "8478c8d0-4b4a-41be-bcbd-65e42d56a898"
      },
      "execution_count": null,
      "outputs": [
        {
          "output_type": "stream",
          "name": "stdout",
          "text": [
            "Requirement already satisfied: numpy>=1.24 in /usr/local/lib/python3.12/dist-packages (from -r requirements.txt (line 2)) (2.0.2)\n",
            "Requirement already satisfied: scikit-image>=0.22 in /usr/local/lib/python3.12/dist-packages (from -r requirements.txt (line 3)) (0.25.2)\n",
            "Requirement already satisfied: scipy>=1.12 in /usr/local/lib/python3.12/dist-packages (from -r requirements.txt (line 4)) (1.16.2)\n",
            "Requirement already satisfied: matplotlib>=3.8 in /usr/local/lib/python3.12/dist-packages (from -r requirements.txt (line 5)) (3.10.0)\n",
            "Requirement already satisfied: streamlit>=1.36 in /usr/local/lib/python3.12/dist-packages (from -r requirements.txt (line 6)) (1.50.0)\n",
            "Requirement already satisfied: rich>=13.0 in /usr/local/lib/python3.12/dist-packages (from -r requirements.txt (line 7)) (13.9.4)\n",
            "Requirement already satisfied: pytest>=8.0 in /usr/local/lib/python3.12/dist-packages (from -r requirements.txt (line 10)) (8.4.2)\n",
            "Requirement already satisfied: networkx>=3.0 in /usr/local/lib/python3.12/dist-packages (from scikit-image>=0.22->-r requirements.txt (line 3)) (3.5)\n",
            "Requirement already satisfied: pillow>=10.1 in /usr/local/lib/python3.12/dist-packages (from scikit-image>=0.22->-r requirements.txt (line 3)) (11.3.0)\n",
            "Requirement already satisfied: imageio!=2.35.0,>=2.33 in /usr/local/lib/python3.12/dist-packages (from scikit-image>=0.22->-r requirements.txt (line 3)) (2.37.0)\n",
            "Requirement already satisfied: tifffile>=2022.8.12 in /usr/local/lib/python3.12/dist-packages (from scikit-image>=0.22->-r requirements.txt (line 3)) (2025.9.9)\n",
            "Requirement already satisfied: packaging>=21 in /usr/local/lib/python3.12/dist-packages (from scikit-image>=0.22->-r requirements.txt (line 3)) (25.0)\n",
            "Requirement already satisfied: lazy-loader>=0.4 in /usr/local/lib/python3.12/dist-packages (from scikit-image>=0.22->-r requirements.txt (line 3)) (0.4)\n",
            "Requirement already satisfied: contourpy>=1.0.1 in /usr/local/lib/python3.12/dist-packages (from matplotlib>=3.8->-r requirements.txt (line 5)) (1.3.3)\n",
            "Requirement already satisfied: cycler>=0.10 in /usr/local/lib/python3.12/dist-packages (from matplotlib>=3.8->-r requirements.txt (line 5)) (0.12.1)\n",
            "Requirement already satisfied: fonttools>=4.22.0 in /usr/local/lib/python3.12/dist-packages (from matplotlib>=3.8->-r requirements.txt (line 5)) (4.60.0)\n",
            "Requirement already satisfied: kiwisolver>=1.3.1 in /usr/local/lib/python3.12/dist-packages (from matplotlib>=3.8->-r requirements.txt (line 5)) (1.4.9)\n",
            "Requirement already satisfied: pyparsing>=2.3.1 in /usr/local/lib/python3.12/dist-packages (from matplotlib>=3.8->-r requirements.txt (line 5)) (3.2.4)\n",
            "Requirement already satisfied: python-dateutil>=2.7 in /usr/local/lib/python3.12/dist-packages (from matplotlib>=3.8->-r requirements.txt (line 5)) (2.9.0.post0)\n",
            "Requirement already satisfied: altair!=5.4.0,!=5.4.1,<6,>=4.0 in /usr/local/lib/python3.12/dist-packages (from streamlit>=1.36->-r requirements.txt (line 6)) (5.5.0)\n",
            "Requirement already satisfied: blinker<2,>=1.5.0 in /usr/local/lib/python3.12/dist-packages (from streamlit>=1.36->-r requirements.txt (line 6)) (1.9.0)\n",
            "Requirement already satisfied: cachetools<7,>=4.0 in /usr/local/lib/python3.12/dist-packages (from streamlit>=1.36->-r requirements.txt (line 6)) (5.5.2)\n",
            "Requirement already satisfied: click<9,>=7.0 in /usr/local/lib/python3.12/dist-packages (from streamlit>=1.36->-r requirements.txt (line 6)) (8.2.1)\n",
            "Requirement already satisfied: pandas<3,>=1.4.0 in /usr/local/lib/python3.12/dist-packages (from streamlit>=1.36->-r requirements.txt (line 6)) (2.2.2)\n",
            "Requirement already satisfied: protobuf<7,>=3.20 in /usr/local/lib/python3.12/dist-packages (from streamlit>=1.36->-r requirements.txt (line 6)) (5.29.5)\n",
            "Requirement already satisfied: pyarrow>=7.0 in /usr/local/lib/python3.12/dist-packages (from streamlit>=1.36->-r requirements.txt (line 6)) (18.1.0)\n",
            "Requirement already satisfied: requests<3,>=2.27 in /usr/local/lib/python3.12/dist-packages (from streamlit>=1.36->-r requirements.txt (line 6)) (2.32.4)\n",
            "Requirement already satisfied: tenacity<10,>=8.1.0 in /usr/local/lib/python3.12/dist-packages (from streamlit>=1.36->-r requirements.txt (line 6)) (8.5.0)\n",
            "Requirement already satisfied: toml<2,>=0.10.1 in /usr/local/lib/python3.12/dist-packages (from streamlit>=1.36->-r requirements.txt (line 6)) (0.10.2)\n",
            "Requirement already satisfied: typing-extensions<5,>=4.4.0 in /usr/local/lib/python3.12/dist-packages (from streamlit>=1.36->-r requirements.txt (line 6)) (4.15.0)\n",
            "Requirement already satisfied: watchdog<7,>=2.1.5 in /usr/local/lib/python3.12/dist-packages (from streamlit>=1.36->-r requirements.txt (line 6)) (6.0.0)\n",
            "Requirement already satisfied: gitpython!=3.1.19,<4,>=3.0.7 in /usr/local/lib/python3.12/dist-packages (from streamlit>=1.36->-r requirements.txt (line 6)) (3.1.45)\n",
            "Requirement already satisfied: pydeck<1,>=0.8.0b4 in /usr/local/lib/python3.12/dist-packages (from streamlit>=1.36->-r requirements.txt (line 6)) (0.9.1)\n",
            "Requirement already satisfied: tornado!=6.5.0,<7,>=6.0.3 in /usr/local/lib/python3.12/dist-packages (from streamlit>=1.36->-r requirements.txt (line 6)) (6.4.2)\n",
            "Requirement already satisfied: markdown-it-py>=2.2.0 in /usr/local/lib/python3.12/dist-packages (from rich>=13.0->-r requirements.txt (line 7)) (4.0.0)\n",
            "Requirement already satisfied: pygments<3.0.0,>=2.13.0 in /usr/local/lib/python3.12/dist-packages (from rich>=13.0->-r requirements.txt (line 7)) (2.19.2)\n",
            "Requirement already satisfied: iniconfig>=1 in /usr/local/lib/python3.12/dist-packages (from pytest>=8.0->-r requirements.txt (line 10)) (2.1.0)\n",
            "Requirement already satisfied: pluggy<2,>=1.5 in /usr/local/lib/python3.12/dist-packages (from pytest>=8.0->-r requirements.txt (line 10)) (1.6.0)\n",
            "Requirement already satisfied: jinja2 in /usr/local/lib/python3.12/dist-packages (from altair!=5.4.0,!=5.4.1,<6,>=4.0->streamlit>=1.36->-r requirements.txt (line 6)) (3.1.6)\n",
            "Requirement already satisfied: jsonschema>=3.0 in /usr/local/lib/python3.12/dist-packages (from altair!=5.4.0,!=5.4.1,<6,>=4.0->streamlit>=1.36->-r requirements.txt (line 6)) (4.25.1)\n",
            "Requirement already satisfied: narwhals>=1.14.2 in /usr/local/lib/python3.12/dist-packages (from altair!=5.4.0,!=5.4.1,<6,>=4.0->streamlit>=1.36->-r requirements.txt (line 6)) (2.5.0)\n",
            "Requirement already satisfied: gitdb<5,>=4.0.1 in /usr/local/lib/python3.12/dist-packages (from gitpython!=3.1.19,<4,>=3.0.7->streamlit>=1.36->-r requirements.txt (line 6)) (4.0.12)\n",
            "Requirement already satisfied: mdurl~=0.1 in /usr/local/lib/python3.12/dist-packages (from markdown-it-py>=2.2.0->rich>=13.0->-r requirements.txt (line 7)) (0.1.2)\n",
            "Requirement already satisfied: pytz>=2020.1 in /usr/local/lib/python3.12/dist-packages (from pandas<3,>=1.4.0->streamlit>=1.36->-r requirements.txt (line 6)) (2025.2)\n",
            "Requirement already satisfied: tzdata>=2022.7 in /usr/local/lib/python3.12/dist-packages (from pandas<3,>=1.4.0->streamlit>=1.36->-r requirements.txt (line 6)) (2025.2)\n",
            "Requirement already satisfied: six>=1.5 in /usr/local/lib/python3.12/dist-packages (from python-dateutil>=2.7->matplotlib>=3.8->-r requirements.txt (line 5)) (1.17.0)\n",
            "Requirement already satisfied: charset_normalizer<4,>=2 in /usr/local/lib/python3.12/dist-packages (from requests<3,>=2.27->streamlit>=1.36->-r requirements.txt (line 6)) (3.4.3)\n",
            "Requirement already satisfied: idna<4,>=2.5 in /usr/local/lib/python3.12/dist-packages (from requests<3,>=2.27->streamlit>=1.36->-r requirements.txt (line 6)) (3.10)\n",
            "Requirement already satisfied: urllib3<3,>=1.21.1 in /usr/local/lib/python3.12/dist-packages (from requests<3,>=2.27->streamlit>=1.36->-r requirements.txt (line 6)) (2.5.0)\n",
            "Requirement already satisfied: certifi>=2017.4.17 in /usr/local/lib/python3.12/dist-packages (from requests<3,>=2.27->streamlit>=1.36->-r requirements.txt (line 6)) (2025.8.3)\n",
            "Requirement already satisfied: smmap<6,>=3.0.1 in /usr/local/lib/python3.12/dist-packages (from gitdb<5,>=4.0.1->gitpython!=3.1.19,<4,>=3.0.7->streamlit>=1.36->-r requirements.txt (line 6)) (5.0.2)\n",
            "Requirement already satisfied: MarkupSafe>=2.0 in /usr/local/lib/python3.12/dist-packages (from jinja2->altair!=5.4.0,!=5.4.1,<6,>=4.0->streamlit>=1.36->-r requirements.txt (line 6)) (3.0.2)\n",
            "Requirement already satisfied: attrs>=22.2.0 in /usr/local/lib/python3.12/dist-packages (from jsonschema>=3.0->altair!=5.4.0,!=5.4.1,<6,>=4.0->streamlit>=1.36->-r requirements.txt (line 6)) (25.3.0)\n",
            "Requirement already satisfied: jsonschema-specifications>=2023.03.6 in /usr/local/lib/python3.12/dist-packages (from jsonschema>=3.0->altair!=5.4.0,!=5.4.1,<6,>=4.0->streamlit>=1.36->-r requirements.txt (line 6)) (2025.9.1)\n",
            "Requirement already satisfied: referencing>=0.28.4 in /usr/local/lib/python3.12/dist-packages (from jsonschema>=3.0->altair!=5.4.0,!=5.4.1,<6,>=4.0->streamlit>=1.36->-r requirements.txt (line 6)) (0.36.2)\n",
            "Requirement already satisfied: rpds-py>=0.7.1 in /usr/local/lib/python3.12/dist-packages (from jsonschema>=3.0->altair!=5.4.0,!=5.4.1,<6,>=4.0->streamlit>=1.36->-r requirements.txt (line 6)) (0.27.1)\n",
            "Collecting cupy-cuda12x\n",
            "  Downloading cupy_cuda12x-13.6.0-cp312-cp312-manylinux2014_x86_64.whl.metadata (2.4 kB)\n",
            "Requirement already satisfied: numpy<2.6,>=1.22 in /usr/local/lib/python3.12/dist-packages (from cupy-cuda12x) (2.0.2)\n",
            "Requirement already satisfied: fastrlock>=0.5 in /usr/local/lib/python3.12/dist-packages (from cupy-cuda12x) (0.8.3)\n",
            "Downloading cupy_cuda12x-13.6.0-cp312-cp312-manylinux2014_x86_64.whl (112.9 MB)\n",
            "\u001b[2K   \u001b[90m━━━━━━━━━━━━━━━━━━━━━━━━━━━━━━━━━━━━━━━━\u001b[0m \u001b[32m112.9/112.9 MB\u001b[0m \u001b[31m8.9 MB/s\u001b[0m eta \u001b[36m0:00:00\u001b[0m\n",
            "\u001b[?25hInstalling collected packages: cupy-cuda12x\n",
            "Successfully installed cupy-cuda12x-13.6.0\n",
            "Obtaining file:///content/rbyrct-gtc-2025\n",
            "  Installing build dependencies ... \u001b[?25l\u001b[?25hdone\n",
            "  Checking if build backend supports build_editable ... \u001b[?25l\u001b[?25hdone\n",
            "  Getting requirements to build editable ... \u001b[?25l\u001b[?25hdone\n",
            "  Preparing editable metadata (pyproject.toml) ... \u001b[?25l\u001b[?25hdone\n",
            "Requirement already satisfied: numpy in /usr/local/lib/python3.12/dist-packages (from rbyrct-core==0.1.0) (2.0.2)\n",
            "Requirement already satisfied: scikit-image in /usr/local/lib/python3.12/dist-packages (from rbyrct-core==0.1.0) (0.25.2)\n",
            "Requirement already satisfied: streamlit in /usr/local/lib/python3.12/dist-packages (from rbyrct-core==0.1.0) (1.50.0)\n",
            "Requirement already satisfied: matplotlib in /usr/local/lib/python3.12/dist-packages (from rbyrct-core==0.1.0) (3.10.0)\n",
            "Requirement already satisfied: pillow in /usr/local/lib/python3.12/dist-packages (from rbyrct-core==0.1.0) (11.3.0)\n",
            "Requirement already satisfied: pandas in /usr/local/lib/python3.12/dist-packages (from rbyrct-core==0.1.0) (2.2.2)\n",
            "Requirement already satisfied: pytest in /usr/local/lib/python3.12/dist-packages (from rbyrct-core==0.1.0) (8.4.2)\n",
            "Requirement already satisfied: contourpy>=1.0.1 in /usr/local/lib/python3.12/dist-packages (from matplotlib->rbyrct-core==0.1.0) (1.3.3)\n",
            "Requirement already satisfied: cycler>=0.10 in /usr/local/lib/python3.12/dist-packages (from matplotlib->rbyrct-core==0.1.0) (0.12.1)\n",
            "Requirement already satisfied: fonttools>=4.22.0 in /usr/local/lib/python3.12/dist-packages (from matplotlib->rbyrct-core==0.1.0) (4.60.0)\n",
            "Requirement already satisfied: kiwisolver>=1.3.1 in /usr/local/lib/python3.12/dist-packages (from matplotlib->rbyrct-core==0.1.0) (1.4.9)\n",
            "Requirement already satisfied: packaging>=20.0 in /usr/local/lib/python3.12/dist-packages (from matplotlib->rbyrct-core==0.1.0) (25.0)\n",
            "Requirement already satisfied: pyparsing>=2.3.1 in /usr/local/lib/python3.12/dist-packages (from matplotlib->rbyrct-core==0.1.0) (3.2.4)\n",
            "Requirement already satisfied: python-dateutil>=2.7 in /usr/local/lib/python3.12/dist-packages (from matplotlib->rbyrct-core==0.1.0) (2.9.0.post0)\n",
            "Requirement already satisfied: pytz>=2020.1 in /usr/local/lib/python3.12/dist-packages (from pandas->rbyrct-core==0.1.0) (2025.2)\n",
            "Requirement already satisfied: tzdata>=2022.7 in /usr/local/lib/python3.12/dist-packages (from pandas->rbyrct-core==0.1.0) (2025.2)\n",
            "Requirement already satisfied: iniconfig>=1 in /usr/local/lib/python3.12/dist-packages (from pytest->rbyrct-core==0.1.0) (2.1.0)\n",
            "Requirement already satisfied: pluggy<2,>=1.5 in /usr/local/lib/python3.12/dist-packages (from pytest->rbyrct-core==0.1.0) (1.6.0)\n",
            "Requirement already satisfied: pygments>=2.7.2 in /usr/local/lib/python3.12/dist-packages (from pytest->rbyrct-core==0.1.0) (2.19.2)\n",
            "Requirement already satisfied: scipy>=1.11.4 in /usr/local/lib/python3.12/dist-packages (from scikit-image->rbyrct-core==0.1.0) (1.16.2)\n",
            "Requirement already satisfied: networkx>=3.0 in /usr/local/lib/python3.12/dist-packages (from scikit-image->rbyrct-core==0.1.0) (3.5)\n",
            "Requirement already satisfied: imageio!=2.35.0,>=2.33 in /usr/local/lib/python3.12/dist-packages (from scikit-image->rbyrct-core==0.1.0) (2.37.0)\n",
            "Requirement already satisfied: tifffile>=2022.8.12 in /usr/local/lib/python3.12/dist-packages (from scikit-image->rbyrct-core==0.1.0) (2025.9.9)\n",
            "Requirement already satisfied: lazy-loader>=0.4 in /usr/local/lib/python3.12/dist-packages (from scikit-image->rbyrct-core==0.1.0) (0.4)\n",
            "Requirement already satisfied: altair!=5.4.0,!=5.4.1,<6,>=4.0 in /usr/local/lib/python3.12/dist-packages (from streamlit->rbyrct-core==0.1.0) (5.5.0)\n",
            "Requirement already satisfied: blinker<2,>=1.5.0 in /usr/local/lib/python3.12/dist-packages (from streamlit->rbyrct-core==0.1.0) (1.9.0)\n",
            "Requirement already satisfied: cachetools<7,>=4.0 in /usr/local/lib/python3.12/dist-packages (from streamlit->rbyrct-core==0.1.0) (5.5.2)\n",
            "Requirement already satisfied: click<9,>=7.0 in /usr/local/lib/python3.12/dist-packages (from streamlit->rbyrct-core==0.1.0) (8.2.1)\n",
            "Requirement already satisfied: protobuf<7,>=3.20 in /usr/local/lib/python3.12/dist-packages (from streamlit->rbyrct-core==0.1.0) (5.29.5)\n",
            "Requirement already satisfied: pyarrow>=7.0 in /usr/local/lib/python3.12/dist-packages (from streamlit->rbyrct-core==0.1.0) (18.1.0)\n",
            "Requirement already satisfied: requests<3,>=2.27 in /usr/local/lib/python3.12/dist-packages (from streamlit->rbyrct-core==0.1.0) (2.32.4)\n",
            "Requirement already satisfied: tenacity<10,>=8.1.0 in /usr/local/lib/python3.12/dist-packages (from streamlit->rbyrct-core==0.1.0) (8.5.0)\n",
            "Requirement already satisfied: toml<2,>=0.10.1 in /usr/local/lib/python3.12/dist-packages (from streamlit->rbyrct-core==0.1.0) (0.10.2)\n",
            "Requirement already satisfied: typing-extensions<5,>=4.4.0 in /usr/local/lib/python3.12/dist-packages (from streamlit->rbyrct-core==0.1.0) (4.15.0)\n",
            "Requirement already satisfied: watchdog<7,>=2.1.5 in /usr/local/lib/python3.12/dist-packages (from streamlit->rbyrct-core==0.1.0) (6.0.0)\n",
            "Requirement already satisfied: gitpython!=3.1.19,<4,>=3.0.7 in /usr/local/lib/python3.12/dist-packages (from streamlit->rbyrct-core==0.1.0) (3.1.45)\n",
            "Requirement already satisfied: pydeck<1,>=0.8.0b4 in /usr/local/lib/python3.12/dist-packages (from streamlit->rbyrct-core==0.1.0) (0.9.1)\n",
            "Requirement already satisfied: tornado!=6.5.0,<7,>=6.0.3 in /usr/local/lib/python3.12/dist-packages (from streamlit->rbyrct-core==0.1.0) (6.4.2)\n",
            "Requirement already satisfied: jinja2 in /usr/local/lib/python3.12/dist-packages (from altair!=5.4.0,!=5.4.1,<6,>=4.0->streamlit->rbyrct-core==0.1.0) (3.1.6)\n",
            "Requirement already satisfied: jsonschema>=3.0 in /usr/local/lib/python3.12/dist-packages (from altair!=5.4.0,!=5.4.1,<6,>=4.0->streamlit->rbyrct-core==0.1.0) (4.25.1)\n",
            "Requirement already satisfied: narwhals>=1.14.2 in /usr/local/lib/python3.12/dist-packages (from altair!=5.4.0,!=5.4.1,<6,>=4.0->streamlit->rbyrct-core==0.1.0) (2.5.0)\n",
            "Requirement already satisfied: gitdb<5,>=4.0.1 in /usr/local/lib/python3.12/dist-packages (from gitpython!=3.1.19,<4,>=3.0.7->streamlit->rbyrct-core==0.1.0) (4.0.12)\n",
            "Requirement already satisfied: six>=1.5 in /usr/local/lib/python3.12/dist-packages (from python-dateutil>=2.7->matplotlib->rbyrct-core==0.1.0) (1.17.0)\n",
            "Requirement already satisfied: charset_normalizer<4,>=2 in /usr/local/lib/python3.12/dist-packages (from requests<3,>=2.27->streamlit->rbyrct-core==0.1.0) (3.4.3)\n",
            "Requirement already satisfied: idna<4,>=2.5 in /usr/local/lib/python3.12/dist-packages (from requests<3,>=2.27->streamlit->rbyrct-core==0.1.0) (3.10)\n",
            "Requirement already satisfied: urllib3<3,>=1.21.1 in /usr/local/lib/python3.12/dist-packages (from requests<3,>=2.27->streamlit->rbyrct-core==0.1.0) (2.5.0)\n",
            "Requirement already satisfied: certifi>=2017.4.17 in /usr/local/lib/python3.12/dist-packages (from requests<3,>=2.27->streamlit->rbyrct-core==0.1.0) (2025.8.3)\n",
            "Requirement already satisfied: smmap<6,>=3.0.1 in /usr/local/lib/python3.12/dist-packages (from gitdb<5,>=4.0.1->gitpython!=3.1.19,<4,>=3.0.7->streamlit->rbyrct-core==0.1.0) (5.0.2)\n",
            "Requirement already satisfied: MarkupSafe>=2.0 in /usr/local/lib/python3.12/dist-packages (from jinja2->altair!=5.4.0,!=5.4.1,<6,>=4.0->streamlit->rbyrct-core==0.1.0) (3.0.2)\n",
            "Requirement already satisfied: attrs>=22.2.0 in /usr/local/lib/python3.12/dist-packages (from jsonschema>=3.0->altair!=5.4.0,!=5.4.1,<6,>=4.0->streamlit->rbyrct-core==0.1.0) (25.3.0)\n",
            "Requirement already satisfied: jsonschema-specifications>=2023.03.6 in /usr/local/lib/python3.12/dist-packages (from jsonschema>=3.0->altair!=5.4.0,!=5.4.1,<6,>=4.0->streamlit->rbyrct-core==0.1.0) (2025.9.1)\n",
            "Requirement already satisfied: referencing>=0.28.4 in /usr/local/lib/python3.12/dist-packages (from jsonschema>=3.0->altair!=5.4.0,!=5.4.1,<6,>=4.0->streamlit->rbyrct-core==0.1.0) (0.36.2)\n",
            "Requirement already satisfied: rpds-py>=0.7.1 in /usr/local/lib/python3.12/dist-packages (from jsonschema>=3.0->altair!=5.4.0,!=5.4.1,<6,>=4.0->streamlit->rbyrct-core==0.1.0) (0.27.1)\n",
            "Building wheels for collected packages: rbyrct-core\n",
            "  Building editable for rbyrct-core (pyproject.toml) ... \u001b[?25l\u001b[?25hdone\n",
            "  Created wheel for rbyrct-core: filename=rbyrct_core-0.1.0-0.editable-py3-none-any.whl size=4908 sha256=e19f0e09ba0f44a5d1b185bfc6ef1bd90be3ad3097b27c381148323be17530c3\n",
            "  Stored in directory: /tmp/pip-ephem-wheel-cache-0ryjvlzn/wheels/e7/b4/de/e7b6592ed3852da6a0f0a54028374fcb352420296f18341c4c\n",
            "Successfully built rbyrct-core\n",
            "Installing collected packages: rbyrct-core\n",
            "  Attempting uninstall: rbyrct-core\n",
            "    Found existing installation: rbyrct-core 0.1.0\n",
            "    Uninstalling rbyrct-core-0.1.0:\n",
            "      Successfully uninstalled rbyrct-core-0.1.0\n",
            "Successfully installed rbyrct-core-0.1.0\n"
          ]
        }
      ]
    },
    {
      "cell_type": "code",
      "source": [
        "import rbyrct_core\n",
        "print(\"GPU available?\", rbyrct_core.GPU)\n"
      ],
      "metadata": {
        "colab": {
          "base_uri": "https://localhost:8080/"
        },
        "id": "n_HH8ClAypiq",
        "outputId": "2136764f-62a5-4aec-fa07-5929df260e54"
      },
      "execution_count": null,
      "outputs": [
        {
          "output_type": "stream",
          "name": "stdout",
          "text": [
            "GPU available? True\n"
          ]
        }
      ]
    },
    {
      "cell_type": "code",
      "source": [
        "!pip uninstall -y cupy cupy-cuda12x\n",
        "!pip install cupy-cuda11x\n"
      ],
      "metadata": {
        "colab": {
          "base_uri": "https://localhost:8080/",
          "height": 291
        },
        "id": "dNIIoLdGMyL8",
        "outputId": "48d0854d-d1c4-4bc7-e5cc-b8120ae935c9"
      },
      "execution_count": null,
      "outputs": [
        {
          "output_type": "stream",
          "name": "stdout",
          "text": [
            "\u001b[33mWARNING: Skipping cupy as it is not installed.\u001b[0m\u001b[33m\n",
            "\u001b[0mFound existing installation: cupy-cuda12x 13.6.0\n",
            "Uninstalling cupy-cuda12x-13.6.0:\n",
            "  Successfully uninstalled cupy-cuda12x-13.6.0\n",
            "Collecting cupy-cuda11x\n",
            "  Using cached cupy_cuda11x-13.6.0-cp312-cp312-manylinux2014_x86_64.whl.metadata (2.4 kB)\n",
            "Requirement already satisfied: numpy<2.6,>=1.22 in /usr/local/lib/python3.12/dist-packages (from cupy-cuda11x) (2.0.2)\n",
            "Requirement already satisfied: fastrlock>=0.5 in /usr/local/lib/python3.12/dist-packages (from cupy-cuda11x) (0.8.3)\n",
            "Using cached cupy_cuda11x-13.6.0-cp312-cp312-manylinux2014_x86_64.whl (99.7 MB)\n",
            "Installing collected packages: cupy-cuda11x\n",
            "Successfully installed cupy-cuda11x-13.6.0\n"
          ]
        },
        {
          "output_type": "display_data",
          "data": {
            "application/vnd.colab-display-data+json": {
              "pip_warning": {
                "packages": [
                  "cupy",
                  "cupy_backends",
                  "cupyx"
                ]
              },
              "id": "e1a1154d3372496ca334374a26321ee6"
            }
          },
          "metadata": {}
        }
      ]
    },
    {
      "cell_type": "code",
      "source": [
        "# Show the GPU\n",
        "!nvidia-smi\n",
        "\n",
        "# Ensure a compatible CuPy is installed for Colab's driver\n",
        "!pip -q uninstall -y cupy cupy-cuda12x cupy-cuda11x\n",
        "!pip -q install -U cupy-cuda11x\n",
        "\n",
        "# Clean Python path for safety\n",
        "import sys, os\n",
        "sys.path = [p for p in sys.path if \"site-packages\" in p or p == \"\"]\n"
      ],
      "metadata": {
        "colab": {
          "base_uri": "https://localhost:8080/"
        },
        "id": "Et3t0fpRaAHP",
        "outputId": "97aef1a5-258f-4f70-f66f-cdd2f586595d"
      },
      "execution_count": null,
      "outputs": [
        {
          "output_type": "stream",
          "name": "stdout",
          "text": [
            "Mon Sep 29 18:37:45 2025       \n",
            "+-----------------------------------------------------------------------------------------+\n",
            "| NVIDIA-SMI 550.54.15              Driver Version: 550.54.15      CUDA Version: 12.4     |\n",
            "|-----------------------------------------+------------------------+----------------------+\n",
            "| GPU  Name                 Persistence-M | Bus-Id          Disp.A | Volatile Uncorr. ECC |\n",
            "| Fan  Temp   Perf          Pwr:Usage/Cap |           Memory-Usage | GPU-Util  Compute M. |\n",
            "|                                         |                        |               MIG M. |\n",
            "|=========================================+========================+======================|\n",
            "|   0  Tesla T4                       Off |   00000000:00:04.0 Off |                    0 |\n",
            "| N/A   45C    P8             12W /   70W |       0MiB /  15360MiB |      0%      Default |\n",
            "|                                         |                        |                  N/A |\n",
            "+-----------------------------------------+------------------------+----------------------+\n",
            "                                                                                         \n",
            "+-----------------------------------------------------------------------------------------+\n",
            "| Processes:                                                                              |\n",
            "|  GPU   GI   CI        PID   Type   Process name                              GPU Memory |\n",
            "|        ID   ID                                                               Usage      |\n",
            "|=========================================================================================|\n",
            "|  No running processes found                                                             |\n",
            "+-----------------------------------------------------------------------------------------+\n",
            "\u001b[33mWARNING: Skipping cupy as it is not installed.\u001b[0m\u001b[33m\n",
            "\u001b[0m\u001b[33mWARNING: Skipping cupy-cuda12x as it is not installed.\u001b[0m\u001b[33m\n",
            "\u001b[0m"
          ]
        }
      ]
    },
    {
      "cell_type": "code",
      "source": [
        "# Clone your repo\n",
        "%cd /content\n",
        "!rm -rf rbyrct-gtc-2025\n",
        "!git clone https://github.com/HussainAther/rbyrct-gtc-2025.git\n",
        "%cd rbyrct-gtc-2025\n",
        "\n",
        "# Install runtime-only deps (no package install)\n",
        "!pip -q install -r requirements.txt\n",
        "\n",
        "# Make the repo importable without pip by using PYTHONPATH\n",
        "import os\n",
        "os.environ[\"PYTHONPATH\"] = os.getcwd()\n",
        "print(\"PYTHONPATH=\", os.environ[\"PYTHONPATH\"])\n"
      ],
      "metadata": {
        "colab": {
          "base_uri": "https://localhost:8080/"
        },
        "id": "nSGzrXtjaB4F",
        "outputId": "6a6db28c-5696-4fbd-a681-5a6353212a59"
      },
      "execution_count": null,
      "outputs": [
        {
          "output_type": "stream",
          "name": "stdout",
          "text": [
            "/content\n",
            "Cloning into 'rbyrct-gtc-2025'...\n",
            "remote: Enumerating objects: 82, done.\u001b[K\n",
            "remote: Counting objects: 100% (82/82), done.\u001b[K\n",
            "remote: Compressing objects: 100% (59/59), done.\u001b[K\n",
            "remote: Total 82 (delta 18), reused 76 (delta 12), pack-reused 0 (from 0)\u001b[K\n",
            "Receiving objects: 100% (82/82), 91.50 KiB | 5.08 MiB/s, done.\n",
            "Resolving deltas: 100% (18/18), done.\n",
            "/content/rbyrct-gtc-2025\n",
            "PYTHONPATH= /content/rbyrct-gtc-2025\n"
          ]
        }
      ]
    },
    {
      "cell_type": "code",
      "source": [
        "!pip uninstall -y cupy cupy-cuda12x\n",
        "!pip install --no-cache-dir cupy-cuda12x\n"
      ],
      "metadata": {
        "colab": {
          "base_uri": "https://localhost:8080/"
        },
        "id": "mwTMSMRFgIkr",
        "outputId": "f8ca97c7-1296-4653-dc3b-1fda0289b78d"
      },
      "execution_count": null,
      "outputs": [
        {
          "output_type": "stream",
          "name": "stdout",
          "text": [
            "\u001b[33mWARNING: Skipping cupy as it is not installed.\u001b[0m\u001b[33m\n",
            "\u001b[0m\u001b[33mWARNING: Skipping cupy-cuda12x as it is not installed.\u001b[0m\u001b[33m\n",
            "\u001b[0mCollecting cupy-cuda12x\n",
            "  Downloading cupy_cuda12x-13.6.0-cp312-cp312-manylinux2014_x86_64.whl.metadata (2.4 kB)\n",
            "Requirement already satisfied: numpy<2.6,>=1.22 in /usr/local/lib/python3.12/dist-packages (from cupy-cuda12x) (2.0.2)\n",
            "Requirement already satisfied: fastrlock>=0.5 in /usr/local/lib/python3.12/dist-packages (from cupy-cuda12x) (0.8.3)\n",
            "Downloading cupy_cuda12x-13.6.0-cp312-cp312-manylinux2014_x86_64.whl (112.9 MB)\n",
            "\u001b[2K   \u001b[90m━━━━━━━━━━━━━━━━━━━━━━━━━━━━━━━━━━━━━━━\u001b[0m \u001b[32m112.9/112.9 MB\u001b[0m \u001b[31m190.0 MB/s\u001b[0m eta \u001b[36m0:00:00\u001b[0m\n",
            "\u001b[?25hInstalling collected packages: cupy-cuda12x\n",
            "Successfully installed cupy-cuda12x-13.6.0\n"
          ]
        }
      ]
    },
    {
      "cell_type": "code",
      "source": [
        "!nvidia-smi\n",
        "\n",
        "# fresh clone\n",
        "%cd /content\n",
        "!rm -rf rbyrct-gtc-2025\n",
        "!git clone https://github.com/HussainAther/rbyrct-gtc-2025.git\n",
        "%cd rbyrct-gtc-2025\n",
        "\n",
        "# deps (CPU stack)\n",
        "!pip -q install -r requirements.txt\n",
        "\n",
        "# CuPy matching Colab's CUDA (12.x lately)\n",
        "!pip -q uninstall -y cupy cupy-cuda11x cupy-cuda12x\n",
        "!pip -q install cupy\n",
        "\n",
        "# make repo importable without editable install\n",
        "import os\n",
        "os.environ[\"PYTHONPATH\"] = os.getcwd()\n",
        "print(\"PYTHONPATH =\", os.environ[\"PYTHONPATH\"])\n"
      ],
      "metadata": {
        "id": "tZIOP46X3b6n"
      },
      "execution_count": null,
      "outputs": []
    },
    {
      "cell_type": "code",
      "source": [
        "import cupy as cp, numpy as np\n",
        "import rbyrct_core\n",
        "print(\"GPU available in rbyrct_core? ->\", rbyrct_core.GPU)\n",
        "\n",
        "# tiny CuPy test\n",
        "x = cp.ones((5,5), dtype=cp.float32)\n",
        "print(\"CuPy OK:\", x.shape)\n"
      ],
      "metadata": {
        "colab": {
          "base_uri": "https://localhost:8080/"
        },
        "id": "DtW_VVRp4rbY",
        "outputId": "f5fc1b3d-2939-4d69-cadf-c9fca24c4dab"
      },
      "execution_count": null,
      "outputs": [
        {
          "output_type": "stream",
          "name": "stdout",
          "text": [
            "GPU available in rbyrct_core? -> True\n",
            "CuPy OK: (5, 5)\n"
          ]
        }
      ]
    },
    {
      "cell_type": "code",
      "source": [
        "# --- Self-contained MART vs FBP benchmark + figure (redefines everything) ---\n",
        "\n",
        "import os, time\n",
        "import numpy as np\n",
        "import cupy as cp\n",
        "import matplotlib.pyplot as plt\n",
        "from skimage.metrics import peak_signal_noise_ratio as PSNR, structural_similarity as SSIM\n",
        "from skimage.transform import iradon\n",
        "\n",
        "from rbyrct_core import forward_project, mart_reconstruct\n",
        "\n",
        "# params (tweak freely)\n",
        "H = W = 256\n",
        "n_angles = 180\n",
        "n_det = 256\n",
        "iters = 10\n",
        "beta = 1.0\n",
        "det_spacing = 1.0\n",
        "spp = 1.5\n",
        "\n",
        "# make sure assets dir exists\n",
        "os.makedirs(\"assets\", exist_ok=True)\n",
        "\n",
        "# 1) phantom\n",
        "phantom = cp.zeros((H, W), dtype=cp.float32)\n",
        "phantom[H//4:H//2, W//4:W//2] = 1.0\n",
        "phantom_np = cp.asnumpy(phantom)\n",
        "\n",
        "# 2) forward projection (CuPy)\n",
        "t0 = time.time()\n",
        "sino = forward_project(phantom, n_angles=n_angles, n_det=n_det,\n",
        "                       det_spacing=det_spacing, spp=spp)\n",
        "fp_ms = (time.time() - t0) * 1000\n",
        "\n",
        "# 3) MART (GPU)\n",
        "t0 = time.time()\n",
        "rec_mart = mart_reconstruct(sino, H=H, W=W, iters=iters, beta=beta,\n",
        "                            det_spacing=det_spacing, spp=spp)\n",
        "mart_ms = (time.time() - t0) * 1000\n",
        "rec_mart_np = cp.asnumpy(rec_mart)\n",
        "\n",
        "# 4) FBP (CPU) with explicit theta + output size\n",
        "sino_np = cp.asnumpy(sino)\n",
        "theta = np.linspace(0., 180., n_angles, endpoint=False)\n",
        "t0 = time.time()\n",
        "rec_fbp = iradon(sino_np.T, theta=theta, circle=True, output_size=H).astype(np.float32)\n",
        "fbp_ms = (time.time() - t0) * 1000\n",
        "\n",
        "# 5) metrics\n",
        "psnr_mart = PSNR(phantom_np, rec_mart_np, data_range=1.0)\n",
        "psnr_fbp  = PSNR(phantom_np, rec_fbp,     data_range=1.0)\n",
        "ssim_mart = SSIM(phantom_np, rec_mart_np, data_range=1.0)\n",
        "ssim_fbp  = SSIM(phantom_np, rec_fbp,     data_range=1.0)\n",
        "\n",
        "print(f\"Forward-projection: {fp_ms:.1f} ms\")\n",
        "print(f\"MART (GPU):        {mart_ms:.1f} ms\")\n",
        "print(f\"FBP (CPU):         {fbp_ms:.1f} ms\")\n",
        "print(f\"PSNR  MART/FBP:    {psnr_mart:.2f} / {psnr_fbp:.2f}\")\n",
        "print(f\"SSIM  MART/FBP:    {ssim_mart:.3f} / {ssim_fbp:.3f}\")\n",
        "\n",
        "# 6) figure + save\n",
        "fig, axes = plt.subplots(1, 3, figsize=(12, 4))\n",
        "axes[0].imshow(phantom_np, cmap=\"gray\"); axes[0].set_title(\"Ground Truth\"); axes[0].axis(\"off\")\n",
        "axes[1].imshow(rec_fbp, cmap=\"gray\");    axes[1].set_title(f\"FBP (CPU) {fbp_ms:.1f} ms\\nPSNR {psnr_fbp:.2f}, SSIM {ssim_fbp:.3f}\"); axes[1].axis(\"off\")\n",
        "axes[2].imshow(rec_mart_np, cmap=\"gray\");axes[2].set_title(f\"MART (GPU) {mart_ms:.1f} ms\\nPSNR {psnr_mart:.2f}, SSIM {ssim_mart:.3f}\"); axes[2].axis(\"off\")\n",
        "plt.tight_layout()\n",
        "fig.savefig(\"assets/side_by_side.png\", dpi=150, bbox_inches=\"tight\")\n",
        "plt.show()\n",
        "\n",
        "print(\"✅ Saved: assets/side_by_side.png\")\n"
      ],
      "metadata": {
        "colab": {
          "base_uri": "https://localhost:8080/",
          "height": 967
        },
        "id": "vZmzFI-l598u",
        "outputId": "dc0af240-33b4-49dd-e892-ab6f244d9ccb"
      },
      "execution_count": 1,
      "outputs": [
        {
          "output_type": "stream",
          "name": "stderr",
          "text": [
            "/usr/local/lib/python3.12/dist-packages/cupy/_environment.py:596: UserWarning: \n",
            "--------------------------------------------------------------------------------\n",
            "\n",
            "  CuPy may not function correctly because multiple CuPy packages are installed\n",
            "  in your environment:\n",
            "\n",
            "    cupy-cuda11x, cupy-cuda12x\n",
            "\n",
            "  Follow these steps to resolve this issue:\n",
            "\n",
            "    1. For all packages listed above, run the following command to remove all\n",
            "       existing CuPy installations:\n",
            "\n",
            "         $ pip uninstall <package_name>\n",
            "\n",
            "      If you previously installed CuPy via conda, also run the following:\n",
            "\n",
            "         $ conda uninstall cupy\n",
            "\n",
            "    2. Install the appropriate CuPy package.\n",
            "       Refer to the Installation Guide for detailed instructions.\n",
            "\n",
            "         https://docs.cupy.dev/en/stable/install.html\n",
            "\n",
            "--------------------------------------------------------------------------------\n",
            "\n",
            "  warnings.warn(f'''\n"
          ]
        },
        {
          "output_type": "stream",
          "name": "stdout",
          "text": [
            "Forward-projection: 694.2 ms\n",
            "MART (GPU):        301.7 ms\n",
            "FBP (CPU):         278.4 ms\n",
            "PSNR  MART/FBP:    22.82 / 9.92\n",
            "SSIM  MART/FBP:    0.849 / 0.544\n"
          ]
        },
        {
          "output_type": "display_data",
          "data": {
            "text/plain": [
              "<Figure size 1200x400 with 3 Axes>"
            ],
            "image/png": "[encoded data removed]"
          },
          "metadata": {}
        },
        {
          "output_type": "stream",
          "name": "stdout",
          "text": [
            "✅ Saved: assets/side_by_side.png\n"
          ]
        }
      ]
    },
    {
      "cell_type": "code",
      "source": [
        "speedup = (fbp_ms / mart_ms) if mart_ms > 0 else float(\"inf\")\n",
        "print(\"\\nREADME row:\")\n",
        "print(f\"| 512² / 180 proj / det=256 / {iters} it | {fbp_ms:.1f} | {mart_ms:.1f} | {speedup:.1f}× |\")\n"
      ],
      "metadata": {
        "colab": {
          "base_uri": "https://localhost:8080/"
        },
        "id": "UsoVXn-D4vcm",
        "outputId": "e4e6730b-762d-4f8a-987f-77f1d6a80b5b"
      },
      "execution_count": 2,
      "outputs": [
        {
          "output_type": "stream",
          "name": "stdout",
          "text": [
            "\n",
            "README row:\n",
            "| 512² / 180 proj / det=256 / 10 it | 278.4 | 301.7 | 0.9× |\n"
          ]
        }
      ]
    }
  ]
}